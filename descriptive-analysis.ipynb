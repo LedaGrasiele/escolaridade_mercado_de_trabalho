{
 "cells": [
  {
   "cell_type": "code",
   "execution_count": 2,
   "metadata": {},
   "outputs": [],
   "source": [
    "%matplotlib inline\n",
    "import pandas as pd\n",
    "import matplotlib.pyplot as plt\n",
    "import seaborn as sns\n",
    "from openpyxl import load_workbook\n",
    "\n",
    "sns.set(style='whitegrid', palette='muted')"
   ]
  },
  {
   "cell_type": "code",
   "execution_count": 3,
   "metadata": {},
   "outputs": [],
   "source": [
    "pnad3 = (pd.read_csv('dados/pnad.csv')\n",
    "                                     .query('idade > 17')  # incluir apenas quem já poderia ter concluído o ensino médio\n",
    "                                     .query('freq_esc == 2')) # apenas quem não frequenta mais a escola\n",
    "\n",
    "pnad3['sexo'] = pnad3.sexo.astype('category') # transformando em categórica\n",
    "pnad3.sexo = pnad3.sexo.cat.rename_categories(['masculino', 'feminino'])"
   ]
  },
  {
   "cell_type": "code",
   "execution_count": 4,
   "metadata": {},
   "outputs": [
    {
     "data": {
      "text/plain": [
       "2.0    129671\n",
       "5.0    106461\n",
       "7.0     44608\n",
       "1.0     43232\n",
       "3.0     32718\n",
       "4.0     19527\n",
       "6.0      6754\n",
       "Name: nivel_instrucao, dtype: int64"
      ]
     },
     "execution_count": 4,
     "metadata": {},
     "output_type": "execute_result"
    }
   ],
   "source": [
    "pnad3.nivel_instrucao.value_counts()"
   ]
  },
  {
   "cell_type": "code",
   "execution_count": 5,
   "metadata": {},
   "outputs": [],
   "source": [
    "pnad3.nivel_instrucao = pnad3.nivel_instrucao.replace([4, 6], [3, 5])\n",
    "pnad3['nivel_instrucao'] = pnad3.nivel_instrucao.astype('category')\n",
    "pnad3.nivel_instrucao.cat.rename_categories(['sem instrução', 'fundamental inc.', 'fundamental', 'médio', 'superior'], inplace=True)\n",
    "pnad3.nivel_instrucao.cat.as_ordered(inplace=True)"
   ]
  },
  {
   "cell_type": "code",
   "execution_count": 6,
   "metadata": {},
   "outputs": [
    {
     "data": {
      "text/plain": [
       "fundamental inc.    129671\n",
       "médio               113215\n",
       "fundamental          52245\n",
       "superior             44608\n",
       "sem instrução        43232\n",
       "Name: nivel_instrucao, dtype: int64"
      ]
     },
     "execution_count": 6,
     "metadata": {},
     "output_type": "execute_result"
    }
   ],
   "source": [
    "pnad3.nivel_instrucao.value_counts()"
   ]
  },
  {
   "cell_type": "code",
   "execution_count": 7,
   "metadata": {},
   "outputs": [],
   "source": [
    "pnad4 = pnad3.query('nivel_instrucao == [\"fundamental\", \"médio\"]') # apenas quem possui ensino fundamental ou médio completo\n",
    "pnad4.nivel_instrucao.cat.remove_unused_categories(inplace=True)"
   ]
  },
  {
   "cell_type": "code",
   "execution_count": 8,
   "metadata": {},
   "outputs": [
    {
     "data": {
      "text/plain": [
       "médio          113215\n",
       "fundamental     52245\n",
       "Name: nivel_instrucao, dtype: int64"
      ]
     },
     "execution_count": 8,
     "metadata": {},
     "output_type": "execute_result"
    }
   ],
   "source": [
    "pnad4.nivel_instrucao.value_counts()"
   ]
  },
  {
   "cell_type": "code",
   "execution_count": 8,
   "metadata": {},
   "outputs": [
    {
     "data": {
      "text/html": [
       "<div>\n",
       "<style scoped>\n",
       "    .dataframe tbody tr th:only-of-type {\n",
       "        vertical-align: middle;\n",
       "    }\n",
       "\n",
       "    .dataframe tbody tr th {\n",
       "        vertical-align: top;\n",
       "    }\n",
       "\n",
       "    .dataframe thead th {\n",
       "        text-align: right;\n",
       "    }\n",
       "</style>\n",
       "<table border=\"1\" class=\"dataframe\">\n",
       "  <thead>\n",
       "    <tr style=\"text-align: right;\">\n",
       "      <th></th>\n",
       "      <th>nível de instrução</th>\n",
       "      <th>%</th>\n",
       "    </tr>\n",
       "  </thead>\n",
       "  <tbody>\n",
       "    <tr>\n",
       "      <th>4</th>\n",
       "      <td>sem instrução</td>\n",
       "      <td>11.3</td>\n",
       "    </tr>\n",
       "    <tr>\n",
       "      <th>0</th>\n",
       "      <td>fundamental inc.</td>\n",
       "      <td>33.9</td>\n",
       "    </tr>\n",
       "    <tr>\n",
       "      <th>2</th>\n",
       "      <td>fundamental</td>\n",
       "      <td>13.6</td>\n",
       "    </tr>\n",
       "    <tr>\n",
       "      <th>1</th>\n",
       "      <td>médio</td>\n",
       "      <td>29.6</td>\n",
       "    </tr>\n",
       "    <tr>\n",
       "      <th>3</th>\n",
       "      <td>superior</td>\n",
       "      <td>11.6</td>\n",
       "    </tr>\n",
       "  </tbody>\n",
       "</table>\n",
       "</div>"
      ],
      "text/plain": [
       "  nível de instrução     %\n",
       "4      sem instrução  11.3\n",
       "0   fundamental inc.  33.9\n",
       "2        fundamental  13.6\n",
       "1              médio  29.6\n",
       "3           superior  11.6"
      ]
     },
     "execution_count": 8,
     "metadata": {},
     "output_type": "execute_result"
    }
   ],
   "source": [
    "# 2.0    33.9\n",
    "# 5.0    27.8\n",
    "# 7.0    11.6\n",
    "# 1.0    11.3\n",
    "# 3.0     8.5\n",
    "# 4.0     5.1\n",
    "# 6.0     1.8\n",
    "nivel = (pnad3.nivel_instrucao.value_counts(normalize=True)*100).round(1)\n",
    "nivel = pd.DataFrame(nivel).reset_index().iloc[[4, 0, 2, 1, 3]]\n",
    "nivel.columns = ['nível de instrução', '%']\n",
    "nivel"
   ]
  },
  {
   "cell_type": "markdown",
   "metadata": {},
   "source": [
    "### **Ocupações mais comuns (maiores de 17 que não frequentam a escola)**"
   ]
  },
  {
   "cell_type": "code",
   "execution_count": 9,
   "metadata": {},
   "outputs": [],
   "source": [
    "temp = (pnad4.query('nivel_instrucao == \"médio\"').ocup_cod.value_counts(normalize=True)*100).round(1)\n",
    "temp = pd.DataFrame(temp).reset_index()\n",
    "temp.columns = ['ocup_desc', 'médio']\n",
    "\n",
    "temp = (pnad4.query('nivel_instrucao == \"médio\"').ocup_desc.value_counts(normalize=True)*100).round(1)\n",
    "temp = pd.DataFrame(temp).reset_index()\n",
    "temp.columns = ['ocup_desc', 'médio']\n",
    "\n",
    "temp2 = (pnad4.query('nivel_instrucao == \"fundamental\"').ocup_desc.value_counts(normalize=True)*100).round(1)\n",
    "temp2 = pd.DataFrame(temp2).reset_index()\n",
    "temp2.columns = ['ocup_desc', 'fundamental']\n",
    "\n",
    "temp3 = temp.merge(temp2)\n",
    "temp3['diferença'] = temp3.fundamental - temp3.médio"
   ]
  },
  {
   "cell_type": "code",
   "execution_count": 10,
   "metadata": {},
   "outputs": [
    {
     "data": {
      "text/html": [
       "<div>\n",
       "<style scoped>\n",
       "    .dataframe tbody tr th:only-of-type {\n",
       "        vertical-align: middle;\n",
       "    }\n",
       "\n",
       "    .dataframe tbody tr th {\n",
       "        vertical-align: top;\n",
       "    }\n",
       "\n",
       "    .dataframe thead th {\n",
       "        text-align: right;\n",
       "    }\n",
       "</style>\n",
       "<table border=\"1\" class=\"dataframe\">\n",
       "  <thead>\n",
       "    <tr style=\"text-align: right;\">\n",
       "      <th></th>\n",
       "      <th>ocup_desc</th>\n",
       "      <th>médio</th>\n",
       "      <th>fundamental</th>\n",
       "      <th>diferença</th>\n",
       "    </tr>\n",
       "  </thead>\n",
       "  <tbody>\n",
       "    <tr>\n",
       "      <th>3</th>\n",
       "      <td>trab_serv_domest</td>\n",
       "      <td>3.5</td>\n",
       "      <td>7.4</td>\n",
       "      <td>3.9</td>\n",
       "    </tr>\n",
       "    <tr>\n",
       "      <th>5</th>\n",
       "      <td>agricultor</td>\n",
       "      <td>2.3</td>\n",
       "      <td>4.8</td>\n",
       "      <td>2.5</td>\n",
       "    </tr>\n",
       "    <tr>\n",
       "      <th>10</th>\n",
       "      <td>pedreiros</td>\n",
       "      <td>1.9</td>\n",
       "      <td>4.7</td>\n",
       "      <td>2.8</td>\n",
       "    </tr>\n",
       "    <tr>\n",
       "      <th>4</th>\n",
       "      <td>trab_limp_interior_edif_esc_hotel</td>\n",
       "      <td>2.6</td>\n",
       "      <td>4.0</td>\n",
       "      <td>1.4</td>\n",
       "    </tr>\n",
       "    <tr>\n",
       "      <th>0</th>\n",
       "      <td>balc_vend_loja</td>\n",
       "      <td>6.8</td>\n",
       "      <td>3.8</td>\n",
       "      <td>-3.0</td>\n",
       "    </tr>\n",
       "    <tr>\n",
       "      <th>2</th>\n",
       "      <td>comerciante_loja</td>\n",
       "      <td>3.7</td>\n",
       "      <td>3.6</td>\n",
       "      <td>-0.1</td>\n",
       "    </tr>\n",
       "    <tr>\n",
       "      <th>14</th>\n",
       "      <td>criador_gado</td>\n",
       "      <td>1.5</td>\n",
       "      <td>3.2</td>\n",
       "      <td>1.7</td>\n",
       "    </tr>\n",
       "    <tr>\n",
       "      <th>8</th>\n",
       "      <td>cond_caminhão_pesado</td>\n",
       "      <td>2.0</td>\n",
       "      <td>3.2</td>\n",
       "      <td>1.2</td>\n",
       "    </tr>\n",
       "    <tr>\n",
       "      <th>20</th>\n",
       "      <td>trab_element_agricult</td>\n",
       "      <td>1.2</td>\n",
       "      <td>3.1</td>\n",
       "      <td>1.9</td>\n",
       "    </tr>\n",
       "    <tr>\n",
       "      <th>25</th>\n",
       "      <td>trab_element_constr_edif</td>\n",
       "      <td>0.9</td>\n",
       "      <td>2.4</td>\n",
       "      <td>1.5</td>\n",
       "    </tr>\n",
       "  </tbody>\n",
       "</table>\n",
       "</div>"
      ],
      "text/plain": [
       "                            ocup_desc  médio  fundamental  diferença\n",
       "3                    trab_serv_domest    3.5          7.4        3.9\n",
       "5                          agricultor    2.3          4.8        2.5\n",
       "10                          pedreiros    1.9          4.7        2.8\n",
       "4   trab_limp_interior_edif_esc_hotel    2.6          4.0        1.4\n",
       "0                      balc_vend_loja    6.8          3.8       -3.0\n",
       "2                    comerciante_loja    3.7          3.6       -0.1\n",
       "14                       criador_gado    1.5          3.2        1.7\n",
       "8                cond_caminhão_pesado    2.0          3.2        1.2\n",
       "20              trab_element_agricult    1.2          3.1        1.9\n",
       "25           trab_element_constr_edif    0.9          2.4        1.5"
      ]
     },
     "execution_count": 10,
     "metadata": {},
     "output_type": "execute_result"
    }
   ],
   "source": [
    "ocup_fund = temp3.sort_values('fundamental', ascending=False).head(10)\n",
    "ocup_fund"
   ]
  },
  {
   "cell_type": "code",
   "execution_count": 11,
   "metadata": {},
   "outputs": [
    {
     "data": {
      "text/html": [
       "<div>\n",
       "<style scoped>\n",
       "    .dataframe tbody tr th:only-of-type {\n",
       "        vertical-align: middle;\n",
       "    }\n",
       "\n",
       "    .dataframe tbody tr th {\n",
       "        vertical-align: top;\n",
       "    }\n",
       "\n",
       "    .dataframe thead th {\n",
       "        text-align: right;\n",
       "    }\n",
       "</style>\n",
       "<table border=\"1\" class=\"dataframe\">\n",
       "  <thead>\n",
       "    <tr style=\"text-align: right;\">\n",
       "      <th></th>\n",
       "      <th>ocup_desc</th>\n",
       "      <th>médio</th>\n",
       "      <th>fundamental</th>\n",
       "      <th>diferença</th>\n",
       "    </tr>\n",
       "  </thead>\n",
       "  <tbody>\n",
       "    <tr>\n",
       "      <th>0</th>\n",
       "      <td>balc_vend_loja</td>\n",
       "      <td>6.8</td>\n",
       "      <td>3.8</td>\n",
       "      <td>-3.0</td>\n",
       "    </tr>\n",
       "    <tr>\n",
       "      <th>1</th>\n",
       "      <td>escriturario_geral</td>\n",
       "      <td>3.9</td>\n",
       "      <td>1.0</td>\n",
       "      <td>-2.9</td>\n",
       "    </tr>\n",
       "    <tr>\n",
       "      <th>2</th>\n",
       "      <td>comerciante_loja</td>\n",
       "      <td>3.7</td>\n",
       "      <td>3.6</td>\n",
       "      <td>-0.1</td>\n",
       "    </tr>\n",
       "    <tr>\n",
       "      <th>3</th>\n",
       "      <td>trab_serv_domest</td>\n",
       "      <td>3.5</td>\n",
       "      <td>7.4</td>\n",
       "      <td>3.9</td>\n",
       "    </tr>\n",
       "    <tr>\n",
       "      <th>4</th>\n",
       "      <td>trab_limp_interior_edif_esc_hotel</td>\n",
       "      <td>2.6</td>\n",
       "      <td>4.0</td>\n",
       "      <td>1.4</td>\n",
       "    </tr>\n",
       "    <tr>\n",
       "      <th>5</th>\n",
       "      <td>agricultor</td>\n",
       "      <td>2.3</td>\n",
       "      <td>4.8</td>\n",
       "      <td>2.5</td>\n",
       "    </tr>\n",
       "    <tr>\n",
       "      <th>6</th>\n",
       "      <td>guarda_seg</td>\n",
       "      <td>2.2</td>\n",
       "      <td>1.8</td>\n",
       "      <td>-0.4</td>\n",
       "    </tr>\n",
       "    <tr>\n",
       "      <th>7</th>\n",
       "      <td>cond_carro_taxi_caminhonete</td>\n",
       "      <td>2.2</td>\n",
       "      <td>1.9</td>\n",
       "      <td>-0.3</td>\n",
       "    </tr>\n",
       "    <tr>\n",
       "      <th>9</th>\n",
       "      <td>caixa_exped_bilhete</td>\n",
       "      <td>2.0</td>\n",
       "      <td>0.8</td>\n",
       "      <td>-1.2</td>\n",
       "    </tr>\n",
       "    <tr>\n",
       "      <th>8</th>\n",
       "      <td>cond_caminhão_pesado</td>\n",
       "      <td>2.0</td>\n",
       "      <td>3.2</td>\n",
       "      <td>1.2</td>\n",
       "    </tr>\n",
       "  </tbody>\n",
       "</table>\n",
       "</div>"
      ],
      "text/plain": [
       "                           ocup_desc  médio  fundamental  diferença\n",
       "0                     balc_vend_loja    6.8          3.8       -3.0\n",
       "1                 escriturario_geral    3.9          1.0       -2.9\n",
       "2                   comerciante_loja    3.7          3.6       -0.1\n",
       "3                   trab_serv_domest    3.5          7.4        3.9\n",
       "4  trab_limp_interior_edif_esc_hotel    2.6          4.0        1.4\n",
       "5                         agricultor    2.3          4.8        2.5\n",
       "6                         guarda_seg    2.2          1.8       -0.4\n",
       "7        cond_carro_taxi_caminhonete    2.2          1.9       -0.3\n",
       "9                caixa_exped_bilhete    2.0          0.8       -1.2\n",
       "8               cond_caminhão_pesado    2.0          3.2        1.2"
      ]
     },
     "execution_count": 11,
     "metadata": {},
     "output_type": "execute_result"
    }
   ],
   "source": [
    "ocup_med = temp3.sort_values('médio', ascending=False).head(10)\n",
    "ocup_med"
   ]
  },
  {
   "cell_type": "markdown",
   "metadata": {},
   "source": [
    "### **Rendimento médio de acordo com o nível de instrução**\n",
    "(maiores de 17 que não frequentam a escola)"
   ]
  },
  {
   "cell_type": "code",
   "execution_count": 8,
   "metadata": {},
   "outputs": [
    {
     "data": {
      "image/png": "[encoded data removed]",
      "text/plain": [
       "<matplotlib.figure.Figure at 0x208b940a710>"
      ]
     },
     "metadata": {},
     "output_type": "display_data"
    }
   ],
   "source": [
    "pnad3.groupby('nivel_instrucao').rendimento.mean().plot.barh(color='gray', figsize=(7, 7))\n",
    "plt.ylabel('')\n",
    "plt.xlabel('rendimento médio', labelpad = 20)\n",
    "plt.savefig('figuras/rendimento.png', bbox_inches='tight');"
   ]
  },
  {
   "cell_type": "code",
   "execution_count": 14,
   "metadata": {},
   "outputs": [
    {
     "data": {
      "text/plain": [
       "nivel_instrucao\n",
       "sem instrução        806.0\n",
       "fundamental inc.    1141.0\n",
       "fundamental         1357.0\n",
       "médio               1655.0\n",
       "superior            4251.0\n",
       "Name: rendimento, dtype: float64"
      ]
     },
     "execution_count": 14,
     "metadata": {},
     "output_type": "execute_result"
    }
   ],
   "source": [
    "pnad3.groupby('nivel_instrucao').rendimento.mean().round(0)"
   ]
  },
  {
   "cell_type": "markdown",
   "metadata": {},
   "source": [
    "### **Rendimentos de acordo com o sexo e o nível de instrução**\n",
    "(maiores de 17 que não frequentam a escola e rendimentos menores do que 7 mil)"
   ]
  },
  {
   "cell_type": "code",
   "execution_count": 3,
   "metadata": {},
   "outputs": [
    {
     "data": {
      "image/png": "[encoded data removed]",
      "text/plain": [
       "<matplotlib.figure.Figure at 0x1910e8c5198>"
      ]
     },
     "metadata": {},
     "output_type": "display_data"
    }
   ],
   "source": [
    "plt.figure(figsize=(11, 10))\n",
    "sns.boxplot('rendimento', 'nivel_instrucao', hue='sexo', color = 'gray',\n",
    "            data=pnad3.query('rendimento < 7000'))\n",
    "plt.xlabel('rendimento médio', labelpad = 20)\n",
    "plt.legend(bbox_to_anchor=(1,1))\n",
    "plt.ylabel('')\n",
    "plt.savefig('figuras/sexo.png', bbox_inches='tight');"
   ]
  },
  {
   "cell_type": "code",
   "execution_count": 4,
   "metadata": {},
   "outputs": [
    {
     "data": {
      "text/plain": [
       "nivel_instrucao   sexo     \n",
       "sem instrução     masculino     700.0\n",
       "                  feminino      500.0\n",
       "fundamental inc.  masculino    1000.0\n",
       "                  feminino      930.0\n",
       "fundamental       masculino    1200.0\n",
       "                  feminino      937.0\n",
       "médio             masculino    1500.0\n",
       "                  feminino     1000.0\n",
       "superior          masculino    3000.0\n",
       "                  feminino     2000.0\n",
       "Name: rendimento, dtype: float64"
      ]
     },
     "execution_count": 4,
     "metadata": {},
     "output_type": "execute_result"
    }
   ],
   "source": [
    "pnad3.query('rendimento < 7000').groupby(['nivel_instrucao', 'sexo']).rendimento.median()"
   ]
  },
  {
   "cell_type": "code",
   "execution_count": 10,
   "metadata": {},
   "outputs": [],
   "source": [
    "# rend = pnad3.groupby('nivel_instrucao').rendimento.describe().round().drop('count', axis=1).reset_index()\n",
    "# rend = rend.rename(columns={'mean': 'média', 'std':'desvio padrão', 'min':'mínimo', 'max':'máximo'})\n",
    "# rend"
   ]
  },
  {
   "cell_type": "code",
   "execution_count": 75,
   "metadata": {},
   "outputs": [],
   "source": [
    "book = load_workbook('artigo1.xlsx')\n",
    "writer = pd.ExcelWriter('artigo1.xlsx', engine='openpyxl') \n",
    "writer.book = book\n",
    "writer.sheets = dict((ws.title, ws) for ws in book.worksheets)\n",
    "nivel.to_excel(writer, 'nivel', index=False)\n",
    "ocup_fund.to_excel(writer, 'ocup_fund', index=False)\n",
    "ocup_med.to_excel(writer, 'ocup_med', index=False)\n",
    "writer.save()"
   ]
  },
  {
   "cell_type": "code",
   "execution_count": null,
   "metadata": {},
   "outputs": [],
   "source": []
  }
 ],
 "metadata": {
  "kernelspec": {
   "display_name": "Python 3",
   "language": "python",
   "name": "python3"
  },
  "language_info": {
   "codemirror_mode": {
    "name": "ipython",
    "version": 3
   },
   "file_extension": ".py",
   "mimetype": "text/x-python",
   "name": "python",
   "nbconvert_exporter": "python",
   "pygments_lexer": "ipython3",
   "version": "3.6.7"
  }
 },
 "nbformat": 4,
 "nbformat_minor": 2
}
